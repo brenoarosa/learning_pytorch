{
 "cells": [
  {
   "cell_type": "code",
   "execution_count": 17,
   "metadata": {
    "collapsed": true,
    "deletable": true,
    "editable": true
   },
   "outputs": [],
   "source": [
    "%matplotlib inline\n",
    "\n",
    "import matplotlib\n",
    "import matplotlib.pyplot as plt\n",
    "\n",
    "import numpy as np\n",
    "\n",
    "import torch\n",
    "import torch.nn as nn\n",
    "import torch.utils.data as data\n",
    "from sklearn import datasets\n",
    "from torch.autograd import Variable"
   ]
  },
  {
   "cell_type": "markdown",
   "metadata": {
    "deletable": true,
    "editable": true
   },
   "source": [
    "### Dataset creation"
   ]
  },
  {
   "cell_type": "code",
   "execution_count": 18,
   "metadata": {
    "collapsed": false,
    "deletable": true,
    "editable": true
   },
   "outputs": [
    {
     "data": {
      "image/png": "[encoded data removed]",
      "text/plain": [
       "<matplotlib.figure.Figure at 0x7f9614a4f4a8>"
      ]
     },
     "metadata": {},
     "output_type": "display_data"
    }
   ],
   "source": [
    "cluster_points = 300\n",
    "\n",
    "X = np.zeros((3*cluster_points, 2))\n",
    "y = np.zeros(3*cluster_points)\n",
    "\n",
    "mean = [(40, 50),\n",
    "        (27, 45),\n",
    "        (38, 46)]\n",
    "\n",
    "cov = [[[1,0], [0, 1]],\n",
    "       [[1, 0], [0, 1]],\n",
    "       [[1, 0], [0, 1]]]\n",
    "\n",
    "colors = ['r', 'g', 'b']\n",
    "\n",
    "for i, (m, c, color) in enumerate(zip(mean, cov, colors)):\n",
    "    cluster = np.random.multivariate_normal(m, c, cluster_points)\n",
    "    plt.scatter(cluster[:, 0], cluster[:, 1], s=3, c=color)\n",
    "    X[(i*cluster_points):((i+1)*cluster_points), :] = cluster\n",
    "    y[(i*cluster_points):((i+1)*cluster_points)] = i\n",
    "\n",
    "plt.show()"
   ]
  },
  {
   "cell_type": "code",
   "execution_count": 19,
   "metadata": {
    "collapsed": false,
    "deletable": true,
    "editable": true
   },
   "outputs": [],
   "source": [
    "X = torch.from_numpy(X.astype('float32'))\n",
    "y = torch.from_numpy(y.astype('int'))"
   ]
  },
  {
   "cell_type": "code",
   "execution_count": 20,
   "metadata": {
    "collapsed": false,
    "deletable": true,
    "editable": true
   },
   "outputs": [],
   "source": [
    "ds = data.TensorDataset(X, y)\n",
    "data_loader = data.DataLoader(ds, batch_size=128,\n",
    "                              shuffle=True,\n",
    "                              num_workers=4)"
   ]
  },
  {
   "cell_type": "markdown",
   "metadata": {
    "deletable": true,
    "editable": true
   },
   "source": [
    "### Classifier"
   ]
  },
  {
   "cell_type": "code",
   "execution_count": 21,
   "metadata": {
    "collapsed": false,
    "deletable": true,
    "editable": true
   },
   "outputs": [],
   "source": [
    "class LogReg(nn.Module):\n",
    "    def __init__(self, in_size, n_classes):\n",
    "        super(LogReg, self).__init__()\n",
    "        self.lin = nn.Linear(in_size, n_classes)\n",
    "        self.bn = nn.BatchNorm1d(n_classes)\n",
    "        \n",
    "    def forward(self, X):\n",
    "        out = self.lin(X)\n",
    "        out = self.bn(out)\n",
    "        return out\n",
    "    \n",
    "model = LogReg(X.size(1), 3)\n",
    "loss_func = nn.CrossEntropyLoss()\n",
    "optimizer = torch.optim.Adam(model.parameters())"
   ]
  },
  {
   "cell_type": "code",
   "execution_count": 22,
   "metadata": {
    "collapsed": false,
    "deletable": true,
    "editable": true
   },
   "outputs": [
    {
     "name": "stdout",
     "output_type": "stream",
     "text": [
      "Epoch 0\n",
      "Epoch 10\n",
      "Epoch 20\n",
      "Epoch 30\n",
      "Epoch 40\n",
      "Epoch 50\n",
      "Epoch 60\n",
      "Epoch 70\n",
      "Epoch 80\n",
      "Epoch 90\n",
      "CPU times: user 6.65 s, sys: 31.2 s, total: 37.9 s\n",
      "Wall time: 12.3 s\n"
     ]
    }
   ],
   "source": [
    "%%time\n",
    "\n",
    "n_epochs = 100\n",
    "accuracies = []\n",
    "\n",
    "for epoch in range(n_epochs):\n",
    "    if not (epoch % (n_epochs / 10)):\n",
    "        print(\"Epoch {}\".format(epoch))\n",
    "        \n",
    "    for (X_batch, y_batch) in data_loader:\n",
    "        X_batch = Variable(X_batch)\n",
    "        y_batch = Variable(y_batch)\n",
    "        \n",
    "        y_pred = model(X_batch)\n",
    "        loss = loss_func(y_pred, y_batch)\n",
    "        \n",
    "        optimizer.zero_grad()\n",
    "        loss.backward()\n",
    "        optimizer.step()\n",
    "        \n",
    "        _, y_pred = torch.max(y_pred, 1)\n",
    "        acc = torch.sum((y_pred == y_batch).data) / y_pred.size(0)\n",
    "        accuracies.append(acc)"
   ]
  },
  {
   "cell_type": "code",
   "execution_count": null,
   "metadata": {
    "collapsed": false
   },
   "outputs": [
    {
     "data": {
      "image/png": "[encoded data removed]",
      "text/plain": [
       "<matplotlib.figure.Figure at 0x7f9614b64fd0>"
      ]
     },
     "metadata": {},
     "output_type": "display_data"
    }
   ],
   "source": [
    "plt.title(\"Learning Curve\")\n",
    "plt.xlabel(\"Batch\")\n",
    "plt.ylabel(\"Accuracy\")\n",
    "plt.scatter(np.linspace(1, len(accuracies), len(accuracies)), accuracies, s=1)\n",
    "plt.show()"
   ]
  },
  {
   "cell_type": "code",
   "execution_count": null,
   "metadata": {
    "collapsed": false,
    "deletable": true,
    "editable": true
   },
   "outputs": [],
   "source": [
    "model.eval()\n",
    "y_pred = model(Variable(X))\n",
    "_, y_pred = torch.max(y_pred, 1)\n",
    "\n",
    "for x, label in zip(X.numpy(), y_pred.view(-1).data.numpy()):\n",
    "    plt.scatter(x[0], x[1], s=3, color=colors[label])\n",
    "    \n",
    "plt.show()"
   ]
  },
  {
   "cell_type": "code",
   "execution_count": null,
   "metadata": {
    "collapsed": false,
    "deletable": true,
    "editable": true
   },
   "outputs": [],
   "source": [
    "model.eval()\n",
    "y_pred = model(Variable(X))\n",
    "_, y_pred = torch.max(y_pred, 1)\n",
    "\n",
    "acc = torch.sum((y_pred == Variable(y)).data) / y_pred.size(0)\n",
    "print(acc)"
   ]
  },
  {
   "cell_type": "markdown",
   "metadata": {},
   "source": [
    "### Reference"
   ]
  },
  {
   "cell_type": "code",
   "execution_count": 10,
   "metadata": {
    "collapsed": false,
    "deletable": true,
    "editable": true
   },
   "outputs": [
    {
     "name": "stdout",
     "output_type": "stream",
     "text": [
      "0.985555555556\n"
     ]
    }
   ],
   "source": [
    "from sklearn.linear_model import LogisticRegression\n",
    "clf = LogisticRegression(C=10000, max_iter=n_epochs) #higher C, lesser l2\n",
    "clf.fit(X.numpy(), y.numpy())\n",
    "acc = clf.score(X.numpy(), y.numpy())\n",
    "print(acc)"
   ]
  },
  {
   "cell_type": "code",
   "execution_count": 11,
   "metadata": {
    "collapsed": false,
    "deletable": true,
    "editable": true
   },
   "outputs": [
    {
     "data": {
      "image/png": "[encoded data removed]",
      "text/plain": [
       "<matplotlib.figure.Figure at 0x7f9614360780>"
      ]
     },
     "metadata": {},
     "output_type": "display_data"
    }
   ],
   "source": [
    "y_pred = clf.predict(X.numpy())\n",
    "\n",
    "for x, label in zip(X.numpy(), y_pred):\n",
    "    plt.scatter(x[0], x[1], s=3, color=colors[label])\n",
    "    \n",
    "plt.show()"
   ]
  }
 ],
 "metadata": {
  "kernelspec": {
   "display_name": "Python 3",
   "language": "python",
   "name": "python3"
  },
  "language_info": {
   "codemirror_mode": {
    "name": "ipython",
    "version": 3
   },
   "file_extension": ".py",
   "mimetype": "text/x-python",
   "name": "python",
   "nbconvert_exporter": "python",
   "pygments_lexer": "ipython3",
   "version": "3.5.3rc1"
  }
 },
 "nbformat": 4,
 "nbformat_minor": 2
}
